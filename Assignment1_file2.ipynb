{
 "cells": [
  {
   "cell_type": "markdown",
   "id": "cdc3aa79",
   "metadata": {},
   "source": [
    "Question = 6"
   ]
  },
  {
   "cell_type": "code",
   "execution_count": 1,
   "id": "1caa9b3d",
   "metadata": {},
   "outputs": [],
   "source": [
    "def pig(word):\n",
    "    vowels = \"aeiou\"\n",
    "    if word[0].lower() in vowels:\n",
    "        return word.lower() + \"way\"\n",
    "    else:\n",
    "        return word[1:].lower() + word[0].lower() + \"ay\"\n"
   ]
  },
  {
   "cell_type": "code",
   "execution_count": 2,
   "id": "2f6e82c2",
   "metadata": {},
   "outputs": [
    {
     "data": {
      "text/plain": [
       "'appyhay'"
      ]
     },
     "execution_count": 2,
     "metadata": {},
     "output_type": "execute_result"
    }
   ],
   "source": [
    "pig('happy')"
   ]
  },
  {
   "cell_type": "code",
   "execution_count": 3,
   "id": "c504e19e",
   "metadata": {},
   "outputs": [
    {
     "data": {
      "text/plain": [
       "'enterway'"
      ]
     },
     "execution_count": 3,
     "metadata": {},
     "output_type": "execute_result"
    }
   ],
   "source": [
    "pig('Enter')"
   ]
  },
  {
   "cell_type": "markdown",
   "id": "d8aa7b88",
   "metadata": {},
   "source": [
    "Question = 7"
   ]
  },
  {
   "cell_type": "code",
   "execution_count": 22,
   "id": "9a97a98a",
   "metadata": {},
   "outputs": [
    {
     "name": "stdout",
     "output_type": "stream",
     "text": [
      "There are 28 patients of blood type A.\n",
      "There are 14 patients of blood type B.\n",
      "There are 0 patients of blood type AB.\n",
      "There are 15 patients of blood type O.\n",
      "There are 0 patients of blood type OO.\n"
     ]
    }
   ],
   "source": [
    "def bldcount(name):\n",
    "    with open(\"bloodtype.txt\", 'r') as f:\n",
    "        bloodtypes = f.read()#.splitlines()\n",
    "        countA = 0\n",
    "        countB = 0\n",
    "        countAB = 0\n",
    "        countO = 0\n",
    "        countOO = 0\n",
    "        for line in bloodtypes:\n",
    "            if line.strip() ==  'A' :\n",
    "                countA += 1\n",
    "            elif line.strip() == 'B' :\n",
    "                countB += 1\n",
    "            elif line.strip() == 'AB':\n",
    "                countAB += 1\n",
    "            elif line.strip() == 'O':\n",
    "                countO += 1\n",
    "            elif line.strip() == 'OO':\n",
    "                countOO += 1\n",
    "\n",
    "    print(\"There are {} patients of blood type A.\".format(countA))\n",
    "    print(\"There are {} patients of blood type B.\".format(countB))\n",
    "    print(\"There are {} patients of blood type AB.\".format(countAB))\n",
    "    print(\"There are {} patients of blood type O.\".format(countO))\n",
    "    print(\"There are {} patients of blood type OO.\".format(countOO))\n",
    "\n",
    "bldcount(\"bloodtypes.txt\")"
   ]
  },
  {
   "cell_type": "markdown",
   "id": "37b2f167",
   "metadata": {},
   "source": [
    "Question = 8"
   ]
  },
  {
   "cell_type": "code",
   "execution_count": 14,
   "id": "e40f79a7",
   "metadata": {},
   "outputs": [
    {
     "data": {
      "text/plain": [
       "122.96544"
      ]
     },
     "execution_count": 14,
     "metadata": {},
     "output_type": "execute_result"
    }
   ],
   "source": [
    "def curconv(currency, amount):\n",
    "    # Load the exchange rates\n",
    "    with open(\"currencies.txt\", \"r\") as f:\n",
    "        rates = {}\n",
    "        for line in f:\n",
    "            data = line.strip().split()\n",
    "            rates[data[0]] = float(data[1])\n",
    "\n",
    "    # Convert the amount to US dollars\n",
    "    return amount * rates[currency]\n",
    "\n",
    "curconv('EUR', 100)"
   ]
  },
  {
   "cell_type": "code",
   "execution_count": 15,
   "id": "99a7b236",
   "metadata": {
    "scrolled": true
   },
   "outputs": [
    {
     "data": {
      "text/plain": [
       "1.241401"
      ]
     },
     "execution_count": 15,
     "metadata": {},
     "output_type": "execute_result"
    }
   ],
   "source": [
    "curconv('JPY', 100)"
   ]
  },
  {
   "cell_type": "markdown",
   "id": "1a0bf006",
   "metadata": {},
   "source": [
    "Question = 9"
   ]
  },
  {
   "cell_type": "markdown",
   "id": "dd01816a",
   "metadata": {},
   "source": [
    "Each of the following will cause an exception (an error). Identify what type of exception each will cause.\n",
    "\n",
    "1. Trying to add incompatible variables, as in adding 6 + ‘a’.\n",
    "Answer: TypeError: unsupported operand types for +: 'int' and 'str'\n",
    "\n",
    "2. Referring to the 12th item of a list that has only 10 items.\n",
    "Answer: IndexError: list index out of range\n",
    "\n",
    "3. Using a value that is out of range for a function’s input, such as calling math.sqrt(-1.0).\n",
    "Answer: ValueError: math domain error\n",
    "\n",
    "4. Using an undeclared variable, such as print(x) when x has not been defined.\n",
    "Answer: NameError: name 'x' is not defined\n",
    "\n",
    "5. Trying to open a file that does not exist, such as mistyping the file name or looking in the wrong directory.\n",
    "Answer: FileNotFoundError"
   ]
  },
  {
   "cell_type": "markdown",
   "id": "52e26aa7",
   "metadata": {},
   "source": [
    "Question = 10"
   ]
  },
  {
   "cell_type": "code",
   "execution_count": 16,
   "id": "e7e17acf",
   "metadata": {},
   "outputs": [],
   "source": [
    "def frequencies(text):\n",
    "    letters = 'abcdefghijklmnopqrstuvwxyz'\n",
    "    frequency_list = [0] * 26\n",
    "    for char in text:\n",
    "        if char.lower() in letters:\n",
    "            index = letters.index(char.lower())\n",
    "            frequency_list[index] += 1\n",
    "    return frequency_list\n"
   ]
  },
  {
   "cell_type": "code",
   "execution_count": 17,
   "id": "b0de3063",
   "metadata": {},
   "outputs": [
    {
     "data": {
      "text/plain": [
       "[1, 1, 1, 3, 5, 1, 1, 2, 1, 0, 1, 0, 1, 2, 4, 0, 1, 2, 0, 3, 1, 0, 1, 1, 0, 0]"
      ]
     },
     "execution_count": 17,
     "metadata": {},
     "output_type": "execute_result"
    }
   ],
   "source": [
    "frequencies('The quick red fox got bored and went home.')"
   ]
  },
  {
   "cell_type": "code",
   "execution_count": 18,
   "id": "b5dd94c2",
   "metadata": {},
   "outputs": [
    {
     "data": {
      "text/plain": [
       "[1, 0, 0, 0, 1, 0, 0, 0, 0, 0, 0, 1, 0, 0, 0, 2, 0, 0, 0, 0, 0, 0, 0, 0, 0, 0]"
      ]
     },
     "execution_count": 18,
     "metadata": {},
     "output_type": "execute_result"
    }
   ],
   "source": [
    "frequencies('apple')"
   ]
  },
  {
   "cell_type": "code",
   "execution_count": null,
   "id": "232f54bb",
   "metadata": {},
   "outputs": [],
   "source": []
  }
 ],
 "metadata": {
  "kernelspec": {
   "display_name": ".NET (C#)",
   "language": "C#",
   "name": ".net-csharp"
  },
  "language_info": {
   "file_extension": ".cs",
   "mimetype": "text/x-csharp",
   "name": "C#",
   "pygments_lexer": "csharp",
   "version": "8.0"
  }
 },
 "nbformat": 4,
 "nbformat_minor": 5
}
