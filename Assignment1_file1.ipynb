{
 "cells": [
  {
   "cell_type": "markdown",
   "id": "79abeed3",
   "metadata": {},
   "source": [
    "Question = 1"
   ]
  },
  {
   "cell_type": "markdown",
   "id": "55230d1c",
   "metadata": {},
   "source": [
    "What data type is each of the following?\n",
    "5 = int\n",
    "5.0 = float\n",
    "5 > 1 = boolean\n",
    "'5' = string\n",
    "5 * 2 = int\n",
    "'5' * 2 = string\n",
    "'5' + '2' = string\n",
    "5 / 2 = float\n",
    "5 % 2 = int\n",
    "{5, 2, 1} = set\n",
    "5 == 3 = boolean\n",
    "Pi (the number) = float\n"
   ]
  },
  {
   "cell_type": "markdown",
   "id": "21856a25",
   "metadata": {},
   "source": [
    "Question = 2"
   ]
  },
  {
   "cell_type": "code",
   "execution_count": 33,
   "id": "e2f12fea",
   "metadata": {},
   "outputs": [
    {
     "name": "stdout",
     "output_type": "stream",
     "text": [
      "34\r\n"
     ]
    }
   ],
   "source": [
    "// a. How many letters are there in 'Supercalifragilisticexpialidocious'?\n",
    "int letterCount = \"Supercalifragilisticexpialidocious\".Length;\n",
    "Console.WriteLine(letterCount);"
   ]
  },
  {
   "cell_type": "code",
   "execution_count": 34,
   "id": "9a86d87f",
   "metadata": {},
   "outputs": [
    {
     "name": "stdout",
     "output_type": "stream",
     "text": [
      "True\r\n"
     ]
    }
   ],
   "source": [
    "//b. Does 'Supercalifragilisticexpialidocious' contain 'ice' as a substring?\n",
    "bool containsIce = \"Supercalifragilisticexpialidocious\".Contains(\"ice\");\n",
    "Console.WriteLine(containsIce);"
   ]
  },
  {
   "cell_type": "code",
   "execution_count": 35,
   "id": "b4f2da7f",
   "metadata": {},
   "outputs": [
    {
     "name": "stdout",
     "output_type": "stream",
     "text": [
      "Supercalifragilisticexpialidocious\r\n"
     ]
    }
   ],
   "source": [
    "//c. Which of the following words is the longest: Supercalifragilisticexpialidocious, Honorificabilitudinitatibus, or Bababadalgharaghtakamminarronnkonn?\n",
    "string[] words = new string[] { \"Supercalifragilisticexpialidocious\", \"Honorificabilitudinitatibus\", \"Bababadalgharaghtakamminarronnkonn\" };\n",
    "string longestWord = words.OrderByDescending(w => w.Length).First();\n",
    "Console.WriteLine(longestWord);"
   ]
  },
  {
   "cell_type": "code",
   "execution_count": 36,
   "id": "4be40dde",
   "metadata": {},
   "outputs": [
    {
     "name": "stdout",
     "output_type": "stream",
     "text": [
      "First: Bartok, Last: Buxtehude\r\n"
     ]
    }
   ],
   "source": [
    "// d. Which composer comes first in the dictionary: 'Berlioz', 'Borodin', 'Brian', 'Bartok', 'Bellini', 'Buxtehude', 'Bernstein'. Which one comes last?\n",
    "string[] composers = new string[] { \"Berlioz\", \"Borodin\", \"Brian\", \"Bartok\", \"Bellini\", \"Buxtehude\", \"Bernstein\" };\n",
    "string firstComposer = composers.OrderBy(c => c).First();\n",
    "string lastComposer = composers.OrderBy(c => c).Last();\n",
    "Console.WriteLine(\"First: \" + firstComposer + \", Last: \" + lastComposer);"
   ]
  },
  {
   "cell_type": "markdown",
   "id": "af56e6ec",
   "metadata": {},
   "source": [
    "Question = 3"
   ]
  },
  {
   "cell_type": "code",
   "execution_count": 25,
   "id": "6e7a61ce",
   "metadata": {},
   "outputs": [],
   "source": [
    "class abc\n",
    "{\n",
    "    \n",
    "    public void triangleArea(double a, double b, double c)\n",
    "    {\n",
    "        double s = (a + b + c) / 2;\n",
    "        Console.WriteLine(Math.Sqrt(s * (s - a) * (s - b) * (s - c)));\n",
    "    }\n",
    "}\n"
   ]
  },
  {
   "cell_type": "code",
   "execution_count": 26,
   "id": "01d41f5c",
   "metadata": {},
   "outputs": [
    {
     "name": "stdout",
     "output_type": "stream",
     "text": [
      "1.7320508075688772\r\n"
     ]
    }
   ],
   "source": [
    "abc NewE = new abc();\n",
    "NewE.triangleArea(2,2,2)"
   ]
  },
  {
   "cell_type": "markdown",
   "id": "fec665b2",
   "metadata": {},
   "source": [
    "Question = 4"
   ]
  },
  {
   "cell_type": "code",
   "execution_count": 38,
   "id": "10e71c96",
   "metadata": {},
   "outputs": [],
   "source": [
    "class Program\n",
    "    {\n",
    "        public void Main(string[] args)\n",
    "        {\n",
    "            Console.WriteLine(\"Enter the number of elements to be stored in the array: \");\n",
    "            int n = Convert.ToInt32(Console.ReadLine());\n",
    "            int[] arr = new int[n];\n",
    "\n",
    "            for (int i = 0; i < n; i++)\n",
    "            {\n",
    "                Console.WriteLine(\"Enter element - {0}:\", i);\n",
    "                arr[i] = Convert.ToInt32(Console.ReadLine());\n",
    "            }\n",
    "\n",
    "            int[] evenArr = Array.FindAll(arr, x => x % 2 == 0);\n",
    "            int[] oddArr = Array.FindAll(arr, x => x % 2 != 0);\n",
    "\n",
    "            Console.WriteLine(\"The Even elements are:\");\n",
    "            foreach (int even in evenArr)\n",
    "            {\n",
    "                Console.Write(\" \" + even);\n",
    "            }\n",
    "\n",
    "            Console.WriteLine(\"\\nThe Odd elements are:\");\n",
    "            foreach (int odd in oddArr)\n",
    "            {\n",
    "                Console.Write(\" \" + odd);\n",
    "            }\n",
    "\n",
    "            Console.ReadLine();\n",
    "        }\n",
    "    }"
   ]
  },
  {
   "cell_type": "markdown",
   "id": "d7ac345f",
   "metadata": {},
   "source": [
    "Question = 5"
   ]
  },
  {
   "cell_type": "code",
   "execution_count": 45,
   "id": "3311add0",
   "metadata": {},
   "outputs": [],
   "source": [
    "bool inside(double x, double y, double x1, double y1, double x2, double y2)\n",
    "{\n",
    "    if (x1 <= x && x <= x2 && y1 <= y && y <= y2)\n",
    "    {\n",
    "        return true; \n",
    "    }\n",
    "    else\n",
    "    {\n",
    "    \n",
    "    return false;\n",
    "    \n",
    "    }\n",
    "}\n"
   ]
  },
  {
   "cell_type": "code",
   "execution_count": 46,
   "id": "82b1bfff",
   "metadata": {},
   "outputs": [
    {
     "data": {
      "text/plain": [
       "True"
      ]
     },
     "execution_count": 46,
     "metadata": {},
     "output_type": "execute_result"
    }
   ],
   "source": [
    "inside(1,1,0,0,2,3)"
   ]
  },
  {
   "cell_type": "code",
   "execution_count": 47,
   "id": "abef17d1",
   "metadata": {},
   "outputs": [
    {
     "data": {
      "text/plain": [
       "False"
      ]
     },
     "execution_count": 47,
     "metadata": {},
     "output_type": "execute_result"
    }
   ],
   "source": [
    "inside(-1,-1,0,0,2,3)"
   ]
  },
  {
   "cell_type": "code",
   "execution_count": 53,
   "id": "15fd1a71",
   "metadata": {},
   "outputs": [
    {
     "name": "stdout",
     "output_type": "stream",
     "text": [
      "The point does not lie in both rectangles.\r\n"
     ]
    }
   ],
   "source": [
    "if (inside(1, 1, 0.3, 0.5, 1.1, 0.7) && inside(1, 1, 0.5, 0.2, 1.1, 2))\n",
    "\n",
    "{\n",
    "    Console.WriteLine(\"The point lies in both rectangles.\");\n",
    "}\n",
    "else\n",
    "{\n",
    "    Console.WriteLine(\"The point does not lie in both rectangles.\");\n",
    "}\n"
   ]
  }
 ],
 "metadata": {
  "kernelspec": {
   "display_name": "Python 3 (ipykernel)",
   "language": "python",
   "name": "python3"
  },
  "language_info": {
   "codemirror_mode": {
    "name": "ipython",
    "version": 3
   },
   "file_extension": ".py",
   "mimetype": "text/x-python",
   "name": "python",
   "nbconvert_exporter": "python",
   "pygments_lexer": "ipython3",
   "version": "3.9.13"
  }
 },
 "nbformat": 4,
 "nbformat_minor": 5
}
